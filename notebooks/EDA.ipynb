{
 "cells": [
  {
   "cell_type": "markdown",
   "metadata": {},
   "source": [
    "## 1. Import Libraries"
   ]
  },
  {
   "cell_type": "code",
   "execution_count": 27,
   "metadata": {},
   "outputs": [],
   "source": [
    "import numpy as np \n",
    "\n",
    "import pandas as pd \n",
    "\n",
    "import seaborn as sns\n",
    "\n",
    "import matplotlib.pyplot as plt\n",
    "\n",
    "import eda_helper_functions\n",
    "\n",
    "from sklearn.ensemble import IsolationForest"
   ]
  },
  {
   "cell_type": "markdown",
   "metadata": {},
   "source": [
    "## 2. Read the Training Daata"
   ]
  },
  {
   "cell_type": "code",
   "execution_count": 5,
   "metadata": {},
   "outputs": [
    {
     "data": {
      "text/html": [
       "<div>\n",
       "<style scoped>\n",
       "    .dataframe tbody tr th:only-of-type {\n",
       "        vertical-align: middle;\n",
       "    }\n",
       "\n",
       "    .dataframe tbody tr th {\n",
       "        vertical-align: top;\n",
       "    }\n",
       "\n",
       "    .dataframe thead th {\n",
       "        text-align: right;\n",
       "    }\n",
       "</style>\n",
       "<table border=\"1\" class=\"dataframe\">\n",
       "  <thead>\n",
       "    <tr style=\"text-align: right;\">\n",
       "      <th></th>\n",
       "      <th>airline</th>\n",
       "      <th>date_of_journey</th>\n",
       "      <th>source</th>\n",
       "      <th>destination</th>\n",
       "      <th>dep_time</th>\n",
       "      <th>arrival_time</th>\n",
       "      <th>duration</th>\n",
       "      <th>total_stops</th>\n",
       "      <th>additional_info</th>\n",
       "      <th>price</th>\n",
       "    </tr>\n",
       "  </thead>\n",
       "  <tbody>\n",
       "    <tr>\n",
       "      <th>0</th>\n",
       "      <td>Indigo</td>\n",
       "      <td>2019-06-01</td>\n",
       "      <td>Delhi</td>\n",
       "      <td>Cochin</td>\n",
       "      <td>05:35:00</td>\n",
       "      <td>08:50:00</td>\n",
       "      <td>195</td>\n",
       "      <td>0.0</td>\n",
       "      <td>No Info</td>\n",
       "      <td>6541</td>\n",
       "    </tr>\n",
       "    <tr>\n",
       "      <th>1</th>\n",
       "      <td>Jet Airways</td>\n",
       "      <td>2019-05-27</td>\n",
       "      <td>Delhi</td>\n",
       "      <td>Cochin</td>\n",
       "      <td>09:00:00</td>\n",
       "      <td>19:00:00</td>\n",
       "      <td>600</td>\n",
       "      <td>1.0</td>\n",
       "      <td>In-flight meal not included</td>\n",
       "      <td>10675</td>\n",
       "    </tr>\n",
       "    <tr>\n",
       "      <th>2</th>\n",
       "      <td>Jet Airways</td>\n",
       "      <td>2019-03-27</td>\n",
       "      <td>Delhi</td>\n",
       "      <td>Cochin</td>\n",
       "      <td>11:30:00</td>\n",
       "      <td>18:50:00</td>\n",
       "      <td>440</td>\n",
       "      <td>1.0</td>\n",
       "      <td>No Info</td>\n",
       "      <td>12242</td>\n",
       "    </tr>\n",
       "    <tr>\n",
       "      <th>3</th>\n",
       "      <td>Jet Airways</td>\n",
       "      <td>2019-06-24</td>\n",
       "      <td>Delhi</td>\n",
       "      <td>Cochin</td>\n",
       "      <td>13:00:00</td>\n",
       "      <td>04:25:00</td>\n",
       "      <td>925</td>\n",
       "      <td>1.0</td>\n",
       "      <td>In-flight meal not included</td>\n",
       "      <td>10262</td>\n",
       "    </tr>\n",
       "    <tr>\n",
       "      <th>4</th>\n",
       "      <td>Jet Airways</td>\n",
       "      <td>2019-03-24</td>\n",
       "      <td>Kolkata</td>\n",
       "      <td>Banglore</td>\n",
       "      <td>16:55:00</td>\n",
       "      <td>19:40:00</td>\n",
       "      <td>1605</td>\n",
       "      <td>1.0</td>\n",
       "      <td>In-flight meal not included</td>\n",
       "      <td>11134</td>\n",
       "    </tr>\n",
       "    <tr>\n",
       "      <th>...</th>\n",
       "      <td>...</td>\n",
       "      <td>...</td>\n",
       "      <td>...</td>\n",
       "      <td>...</td>\n",
       "      <td>...</td>\n",
       "      <td>...</td>\n",
       "      <td>...</td>\n",
       "      <td>...</td>\n",
       "      <td>...</td>\n",
       "      <td>...</td>\n",
       "    </tr>\n",
       "    <tr>\n",
       "      <th>635</th>\n",
       "      <td>Spicejet</td>\n",
       "      <td>2019-06-12</td>\n",
       "      <td>Delhi</td>\n",
       "      <td>Cochin</td>\n",
       "      <td>08:45:00</td>\n",
       "      <td>13:15:00</td>\n",
       "      <td>270</td>\n",
       "      <td>1.0</td>\n",
       "      <td>No check-in baggage included</td>\n",
       "      <td>5158</td>\n",
       "    </tr>\n",
       "    <tr>\n",
       "      <th>636</th>\n",
       "      <td>Air India</td>\n",
       "      <td>2019-03-03</td>\n",
       "      <td>Delhi</td>\n",
       "      <td>Cochin</td>\n",
       "      <td>21:30:00</td>\n",
       "      <td>19:15:00</td>\n",
       "      <td>1305</td>\n",
       "      <td>2.0</td>\n",
       "      <td>No Info</td>\n",
       "      <td>12497</td>\n",
       "    </tr>\n",
       "    <tr>\n",
       "      <th>637</th>\n",
       "      <td>Jet Airways</td>\n",
       "      <td>2019-06-27</td>\n",
       "      <td>Delhi</td>\n",
       "      <td>Cochin</td>\n",
       "      <td>20:55:00</td>\n",
       "      <td>04:25:00</td>\n",
       "      <td>450</td>\n",
       "      <td>1.0</td>\n",
       "      <td>In-flight meal not included</td>\n",
       "      <td>12898</td>\n",
       "    </tr>\n",
       "    <tr>\n",
       "      <th>638</th>\n",
       "      <td>Air India</td>\n",
       "      <td>2019-05-15</td>\n",
       "      <td>Delhi</td>\n",
       "      <td>Cochin</td>\n",
       "      <td>05:15:00</td>\n",
       "      <td>06:50:00</td>\n",
       "      <td>1535</td>\n",
       "      <td>1.0</td>\n",
       "      <td>No Info</td>\n",
       "      <td>8425</td>\n",
       "    </tr>\n",
       "    <tr>\n",
       "      <th>639</th>\n",
       "      <td>Indigo</td>\n",
       "      <td>2019-03-03</td>\n",
       "      <td>Delhi</td>\n",
       "      <td>Cochin</td>\n",
       "      <td>04:45:00</td>\n",
       "      <td>11:30:00</td>\n",
       "      <td>405</td>\n",
       "      <td>1.0</td>\n",
       "      <td>No Info</td>\n",
       "      <td>14871</td>\n",
       "    </tr>\n",
       "  </tbody>\n",
       "</table>\n",
       "<p>640 rows × 10 columns</p>\n",
       "</div>"
      ],
      "text/plain": [
       "         airline date_of_journey   source destination  dep_time arrival_time  \\\n",
       "0         Indigo      2019-06-01    Delhi      Cochin  05:35:00     08:50:00   \n",
       "1    Jet Airways      2019-05-27    Delhi      Cochin  09:00:00     19:00:00   \n",
       "2    Jet Airways      2019-03-27    Delhi      Cochin  11:30:00     18:50:00   \n",
       "3    Jet Airways      2019-06-24    Delhi      Cochin  13:00:00     04:25:00   \n",
       "4    Jet Airways      2019-03-24  Kolkata    Banglore  16:55:00     19:40:00   \n",
       "..           ...             ...      ...         ...       ...          ...   \n",
       "635     Spicejet      2019-06-12    Delhi      Cochin  08:45:00     13:15:00   \n",
       "636    Air India      2019-03-03    Delhi      Cochin  21:30:00     19:15:00   \n",
       "637  Jet Airways      2019-06-27    Delhi      Cochin  20:55:00     04:25:00   \n",
       "638    Air India      2019-05-15    Delhi      Cochin  05:15:00     06:50:00   \n",
       "639       Indigo      2019-03-03    Delhi      Cochin  04:45:00     11:30:00   \n",
       "\n",
       "     duration  total_stops               additional_info  price  \n",
       "0         195          0.0                       No Info   6541  \n",
       "1         600          1.0   In-flight meal not included  10675  \n",
       "2         440          1.0                       No Info  12242  \n",
       "3         925          1.0   In-flight meal not included  10262  \n",
       "4        1605          1.0   In-flight meal not included  11134  \n",
       "..        ...          ...                           ...    ...  \n",
       "635       270          1.0  No check-in baggage included   5158  \n",
       "636      1305          2.0                       No Info  12497  \n",
       "637       450          1.0   In-flight meal not included  12898  \n",
       "638      1535          1.0                       No Info   8425  \n",
       "639       405          1.0                       No Info  14871  \n",
       "\n",
       "[640 rows x 10 columns]"
      ]
     },
     "execution_count": 5,
     "metadata": {},
     "output_type": "execute_result"
    }
   ],
   "source": [
    "file_path = r\"C:\\Users\\vaibh\\OneDrive\\Desktop\\Flight_Sagemaker_Project\\data\\train.csv\"\n",
    "train = pd.read_csv(file_path)\n",
    "train"
   ]
  },
  {
   "cell_type": "code",
   "execution_count": 6,
   "metadata": {},
   "outputs": [
    {
     "data": {
      "text/plain": [
       "airline             object\n",
       "date_of_journey     object\n",
       "source              object\n",
       "destination         object\n",
       "dep_time            object\n",
       "arrival_time        object\n",
       "duration             int64\n",
       "total_stops        float64\n",
       "additional_info     object\n",
       "price                int64\n",
       "dtype: object"
      ]
     },
     "execution_count": 6,
     "metadata": {},
     "output_type": "execute_result"
    }
   ],
   "source": [
    "train.dtypes"
   ]
  },
  {
   "cell_type": "code",
   "execution_count": 14,
   "metadata": {},
   "outputs": [],
   "source": [
    "train = train.assign(**{\n",
    "\tcol: pd.to_datetime(train.loc[:, col], dayfirst=True, format=\"mixed\")\n",
    "\tfor col in [\"date_of_journey\", \"dep_time\", \"arrival_time\"]\n",
    "})"
   ]
  },
  {
   "cell_type": "code",
   "execution_count": 15,
   "metadata": {},
   "outputs": [
    {
     "data": {
      "text/plain": [
       "airline                    object\n",
       "date_of_journey    datetime64[ns]\n",
       "source                     object\n",
       "destination                object\n",
       "dep_time           datetime64[ns]\n",
       "arrival_time       datetime64[ns]\n",
       "duration                    int64\n",
       "total_stops               float64\n",
       "additional_info            object\n",
       "price                       int64\n",
       "dtype: object"
      ]
     },
     "execution_count": 15,
     "metadata": {},
     "output_type": "execute_result"
    }
   ],
   "source": [
    "train.dtypes"
   ]
  },
  {
   "cell_type": "markdown",
   "metadata": {},
   "source": [
    "### 3. High-Level Summary of Data"
   ]
  },
  {
   "cell_type": "code",
   "execution_count": 16,
   "metadata": {},
   "outputs": [
    {
     "name": "stdout",
     "output_type": "stream",
     "text": [
      "<class 'pandas.core.frame.DataFrame'>\n",
      "RangeIndex: 640 entries, 0 to 639\n",
      "Data columns (total 10 columns):\n",
      " #   Column           Non-Null Count  Dtype         \n",
      "---  ------           --------------  -----         \n",
      " 0   airline          640 non-null    object        \n",
      " 1   date_of_journey  640 non-null    datetime64[ns]\n",
      " 2   source           640 non-null    object        \n",
      " 3   destination      640 non-null    object        \n",
      " 4   dep_time         640 non-null    datetime64[ns]\n",
      " 5   arrival_time     640 non-null    datetime64[ns]\n",
      " 6   duration         640 non-null    int64         \n",
      " 7   total_stops      640 non-null    float64       \n",
      " 8   additional_info  640 non-null    object        \n",
      " 9   price            640 non-null    int64         \n",
      "dtypes: datetime64[ns](3), float64(1), int64(2), object(4)\n",
      "memory usage: 50.1+ KB\n"
     ]
    }
   ],
   "source": [
    "train.info()"
   ]
  },
  {
   "cell_type": "code",
   "execution_count": 18,
   "metadata": {},
   "outputs": [
    {
     "data": {
      "text/html": [
       "<div>\n",
       "<style scoped>\n",
       "    .dataframe tbody tr th:only-of-type {\n",
       "        vertical-align: middle;\n",
       "    }\n",
       "\n",
       "    .dataframe tbody tr th {\n",
       "        vertical-align: top;\n",
       "    }\n",
       "\n",
       "    .dataframe thead th {\n",
       "        text-align: right;\n",
       "    }\n",
       "</style>\n",
       "<table border=\"1\" class=\"dataframe\">\n",
       "  <thead>\n",
       "    <tr style=\"text-align: right;\">\n",
       "      <th></th>\n",
       "      <th>duration</th>\n",
       "      <th>total_stops</th>\n",
       "      <th>price</th>\n",
       "    </tr>\n",
       "  </thead>\n",
       "  <tbody>\n",
       "    <tr>\n",
       "      <th>count</th>\n",
       "      <td>640.000000</td>\n",
       "      <td>640.000000</td>\n",
       "      <td>640.000000</td>\n",
       "    </tr>\n",
       "    <tr>\n",
       "      <th>mean</th>\n",
       "      <td>651.859375</td>\n",
       "      <td>0.812500</td>\n",
       "      <td>9045.723438</td>\n",
       "    </tr>\n",
       "    <tr>\n",
       "      <th>std</th>\n",
       "      <td>512.181406</td>\n",
       "      <td>0.658993</td>\n",
       "      <td>4515.356829</td>\n",
       "    </tr>\n",
       "    <tr>\n",
       "      <th>min</th>\n",
       "      <td>75.000000</td>\n",
       "      <td>0.000000</td>\n",
       "      <td>1965.000000</td>\n",
       "    </tr>\n",
       "    <tr>\n",
       "      <th>25%</th>\n",
       "      <td>175.000000</td>\n",
       "      <td>0.000000</td>\n",
       "      <td>5403.000000</td>\n",
       "    </tr>\n",
       "    <tr>\n",
       "      <th>50%</th>\n",
       "      <td>550.000000</td>\n",
       "      <td>1.000000</td>\n",
       "      <td>8452.000000</td>\n",
       "    </tr>\n",
       "    <tr>\n",
       "      <th>75%</th>\n",
       "      <td>956.250000</td>\n",
       "      <td>1.000000</td>\n",
       "      <td>12242.000000</td>\n",
       "    </tr>\n",
       "    <tr>\n",
       "      <th>max</th>\n",
       "      <td>2315.000000</td>\n",
       "      <td>3.000000</td>\n",
       "      <td>54826.000000</td>\n",
       "    </tr>\n",
       "  </tbody>\n",
       "</table>\n",
       "</div>"
      ],
      "text/plain": [
       "          duration  total_stops         price\n",
       "count   640.000000   640.000000    640.000000\n",
       "mean    651.859375     0.812500   9045.723438\n",
       "std     512.181406     0.658993   4515.356829\n",
       "min      75.000000     0.000000   1965.000000\n",
       "25%     175.000000     0.000000   5403.000000\n",
       "50%     550.000000     1.000000   8452.000000\n",
       "75%     956.250000     1.000000  12242.000000\n",
       "max    2315.000000     3.000000  54826.000000"
      ]
     },
     "execution_count": 18,
     "metadata": {},
     "output_type": "execute_result"
    }
   ],
   "source": [
    "train.describe(include=\"number\")"
   ]
  },
  {
   "cell_type": "code",
   "execution_count": 21,
   "metadata": {},
   "outputs": [
    {
     "data": {
      "text/html": [
       "<div>\n",
       "<style scoped>\n",
       "    .dataframe tbody tr th:only-of-type {\n",
       "        vertical-align: middle;\n",
       "    }\n",
       "\n",
       "    .dataframe tbody tr th {\n",
       "        vertical-align: top;\n",
       "    }\n",
       "\n",
       "    .dataframe thead th {\n",
       "        text-align: right;\n",
       "    }\n",
       "</style>\n",
       "<table border=\"1\" class=\"dataframe\">\n",
       "  <thead>\n",
       "    <tr style=\"text-align: right;\">\n",
       "      <th></th>\n",
       "      <th>airline</th>\n",
       "      <th>source</th>\n",
       "      <th>destination</th>\n",
       "      <th>total_stops</th>\n",
       "      <th>additional_info</th>\n",
       "    </tr>\n",
       "  </thead>\n",
       "  <tbody>\n",
       "    <tr>\n",
       "      <th>count</th>\n",
       "      <td>640</td>\n",
       "      <td>640</td>\n",
       "      <td>640</td>\n",
       "      <td>640.0</td>\n",
       "      <td>640</td>\n",
       "    </tr>\n",
       "    <tr>\n",
       "      <th>unique</th>\n",
       "      <td>8</td>\n",
       "      <td>5</td>\n",
       "      <td>6</td>\n",
       "      <td>4.0</td>\n",
       "      <td>4</td>\n",
       "    </tr>\n",
       "    <tr>\n",
       "      <th>top</th>\n",
       "      <td>Jet Airways</td>\n",
       "      <td>Delhi</td>\n",
       "      <td>Cochin</td>\n",
       "      <td>1.0</td>\n",
       "      <td>No Info</td>\n",
       "    </tr>\n",
       "    <tr>\n",
       "      <th>freq</th>\n",
       "      <td>234</td>\n",
       "      <td>252</td>\n",
       "      <td>252</td>\n",
       "      <td>343.0</td>\n",
       "      <td>493</td>\n",
       "    </tr>\n",
       "  </tbody>\n",
       "</table>\n",
       "</div>"
      ],
      "text/plain": [
       "            airline source destination  total_stops additional_info\n",
       "count           640    640         640        640.0             640\n",
       "unique            8      5           6          4.0               4\n",
       "top     Jet Airways  Delhi      Cochin          1.0         No Info\n",
       "freq            234    252         252        343.0             493"
      ]
     },
     "execution_count": 21,
     "metadata": {},
     "output_type": "execute_result"
    }
   ],
   "source": [
    "(\n",
    "    train\n",
    "    .assign(total_stops=train[\"total_stops\"].astype(object))\n",
    "    .describe(include=\"object\")\n",
    ")"
   ]
  },
  {
   "cell_type": "markdown",
   "metadata": {},
   "source": [
    "## 4. High-level analysis of missing values"
   ]
  },
  {
   "cell_type": "code",
   "execution_count": null,
   "metadata": {},
   "outputs": [],
   "source": []
  },
  {
   "cell_type": "markdown",
   "metadata": {},
   "source": [
    "## 5. High-leval analysis of outliers"
   ]
  },
  {
   "cell_type": "code",
   "execution_count": 23,
   "metadata": {},
   "outputs": [],
   "source": [
    "forest = IsolationForest(n_estimators=10, random_state=42)"
   ]
  },
  {
   "cell_type": "code",
   "execution_count": 25,
   "metadata": {},
   "outputs": [
    {
     "data": {
      "text/html": [
       "<div>\n",
       "<style scoped>\n",
       "    .dataframe tbody tr th:only-of-type {\n",
       "        vertical-align: middle;\n",
       "    }\n",
       "\n",
       "    .dataframe tbody tr th {\n",
       "        vertical-align: top;\n",
       "    }\n",
       "\n",
       "    .dataframe thead th {\n",
       "        text-align: right;\n",
       "    }\n",
       "</style>\n",
       "<table border=\"1\" class=\"dataframe\">\n",
       "  <thead>\n",
       "    <tr style=\"text-align: right;\">\n",
       "      <th></th>\n",
       "      <th>airline</th>\n",
       "      <th>date_of_journey</th>\n",
       "      <th>source</th>\n",
       "      <th>destination</th>\n",
       "      <th>dep_time</th>\n",
       "      <th>arrival_time</th>\n",
       "      <th>duration</th>\n",
       "      <th>total_stops</th>\n",
       "      <th>additional_info</th>\n",
       "      <th>price</th>\n",
       "      <th>outlier</th>\n",
       "    </tr>\n",
       "  </thead>\n",
       "  <tbody>\n",
       "    <tr>\n",
       "      <th>0</th>\n",
       "      <td>Indigo</td>\n",
       "      <td>2019-06-01</td>\n",
       "      <td>Delhi</td>\n",
       "      <td>Cochin</td>\n",
       "      <td>2024-06-09 05:35:00</td>\n",
       "      <td>2024-06-09 08:50:00</td>\n",
       "      <td>195</td>\n",
       "      <td>0.0</td>\n",
       "      <td>No Info</td>\n",
       "      <td>6541</td>\n",
       "      <td>-1</td>\n",
       "    </tr>\n",
       "    <tr>\n",
       "      <th>2</th>\n",
       "      <td>Jet Airways</td>\n",
       "      <td>2019-03-27</td>\n",
       "      <td>Delhi</td>\n",
       "      <td>Cochin</td>\n",
       "      <td>2024-06-09 11:30:00</td>\n",
       "      <td>2024-06-09 18:50:00</td>\n",
       "      <td>440</td>\n",
       "      <td>1.0</td>\n",
       "      <td>No Info</td>\n",
       "      <td>12242</td>\n",
       "      <td>-1</td>\n",
       "    </tr>\n",
       "    <tr>\n",
       "      <th>4</th>\n",
       "      <td>Jet Airways</td>\n",
       "      <td>2019-03-24</td>\n",
       "      <td>Kolkata</td>\n",
       "      <td>Banglore</td>\n",
       "      <td>2024-06-09 16:55:00</td>\n",
       "      <td>2024-06-09 19:40:00</td>\n",
       "      <td>1605</td>\n",
       "      <td>1.0</td>\n",
       "      <td>In-flight meal not included</td>\n",
       "      <td>11134</td>\n",
       "      <td>-1</td>\n",
       "    </tr>\n",
       "    <tr>\n",
       "      <th>7</th>\n",
       "      <td>Multiple Carriers</td>\n",
       "      <td>2019-03-09</td>\n",
       "      <td>Delhi</td>\n",
       "      <td>Cochin</td>\n",
       "      <td>2024-06-09 17:50:00</td>\n",
       "      <td>2024-06-09 01:35:00</td>\n",
       "      <td>465</td>\n",
       "      <td>2.0</td>\n",
       "      <td>No Info</td>\n",
       "      <td>23583</td>\n",
       "      <td>-1</td>\n",
       "    </tr>\n",
       "    <tr>\n",
       "      <th>13</th>\n",
       "      <td>Jet Airways</td>\n",
       "      <td>2019-05-24</td>\n",
       "      <td>Banglore</td>\n",
       "      <td>Delhi</td>\n",
       "      <td>2024-06-09 08:20:00</td>\n",
       "      <td>2024-06-09 11:20:00</td>\n",
       "      <td>180</td>\n",
       "      <td>0.0</td>\n",
       "      <td>In-flight meal not included</td>\n",
       "      <td>4030</td>\n",
       "      <td>-1</td>\n",
       "    </tr>\n",
       "    <tr>\n",
       "      <th>...</th>\n",
       "      <td>...</td>\n",
       "      <td>...</td>\n",
       "      <td>...</td>\n",
       "      <td>...</td>\n",
       "      <td>...</td>\n",
       "      <td>...</td>\n",
       "      <td>...</td>\n",
       "      <td>...</td>\n",
       "      <td>...</td>\n",
       "      <td>...</td>\n",
       "      <td>...</td>\n",
       "    </tr>\n",
       "    <tr>\n",
       "      <th>633</th>\n",
       "      <td>Multiple Carriers</td>\n",
       "      <td>2019-06-15</td>\n",
       "      <td>Delhi</td>\n",
       "      <td>Cochin</td>\n",
       "      <td>2024-06-09 15:05:00</td>\n",
       "      <td>2024-06-09 01:30:00</td>\n",
       "      <td>625</td>\n",
       "      <td>2.0</td>\n",
       "      <td>No Info</td>\n",
       "      <td>15965</td>\n",
       "      <td>-1</td>\n",
       "    </tr>\n",
       "    <tr>\n",
       "      <th>635</th>\n",
       "      <td>Spicejet</td>\n",
       "      <td>2019-06-12</td>\n",
       "      <td>Delhi</td>\n",
       "      <td>Cochin</td>\n",
       "      <td>2024-06-09 08:45:00</td>\n",
       "      <td>2024-06-09 13:15:00</td>\n",
       "      <td>270</td>\n",
       "      <td>1.0</td>\n",
       "      <td>No check-in baggage included</td>\n",
       "      <td>5158</td>\n",
       "      <td>-1</td>\n",
       "    </tr>\n",
       "    <tr>\n",
       "      <th>636</th>\n",
       "      <td>Air India</td>\n",
       "      <td>2019-03-03</td>\n",
       "      <td>Delhi</td>\n",
       "      <td>Cochin</td>\n",
       "      <td>2024-06-09 21:30:00</td>\n",
       "      <td>2024-06-09 19:15:00</td>\n",
       "      <td>1305</td>\n",
       "      <td>2.0</td>\n",
       "      <td>No Info</td>\n",
       "      <td>12497</td>\n",
       "      <td>-1</td>\n",
       "    </tr>\n",
       "    <tr>\n",
       "      <th>637</th>\n",
       "      <td>Jet Airways</td>\n",
       "      <td>2019-06-27</td>\n",
       "      <td>Delhi</td>\n",
       "      <td>Cochin</td>\n",
       "      <td>2024-06-09 20:55:00</td>\n",
       "      <td>2024-06-09 04:25:00</td>\n",
       "      <td>450</td>\n",
       "      <td>1.0</td>\n",
       "      <td>In-flight meal not included</td>\n",
       "      <td>12898</td>\n",
       "      <td>-1</td>\n",
       "    </tr>\n",
       "    <tr>\n",
       "      <th>638</th>\n",
       "      <td>Air India</td>\n",
       "      <td>2019-05-15</td>\n",
       "      <td>Delhi</td>\n",
       "      <td>Cochin</td>\n",
       "      <td>2024-06-09 05:15:00</td>\n",
       "      <td>2024-06-09 06:50:00</td>\n",
       "      <td>1535</td>\n",
       "      <td>1.0</td>\n",
       "      <td>No Info</td>\n",
       "      <td>8425</td>\n",
       "      <td>-1</td>\n",
       "    </tr>\n",
       "  </tbody>\n",
       "</table>\n",
       "<p>325 rows × 11 columns</p>\n",
       "</div>"
      ],
      "text/plain": [
       "               airline date_of_journey    source destination  \\\n",
       "0               Indigo      2019-06-01     Delhi      Cochin   \n",
       "2          Jet Airways      2019-03-27     Delhi      Cochin   \n",
       "4          Jet Airways      2019-03-24   Kolkata    Banglore   \n",
       "7    Multiple Carriers      2019-03-09     Delhi      Cochin   \n",
       "13         Jet Airways      2019-05-24  Banglore       Delhi   \n",
       "..                 ...             ...       ...         ...   \n",
       "633  Multiple Carriers      2019-06-15     Delhi      Cochin   \n",
       "635           Spicejet      2019-06-12     Delhi      Cochin   \n",
       "636          Air India      2019-03-03     Delhi      Cochin   \n",
       "637        Jet Airways      2019-06-27     Delhi      Cochin   \n",
       "638          Air India      2019-05-15     Delhi      Cochin   \n",
       "\n",
       "               dep_time        arrival_time  duration  total_stops  \\\n",
       "0   2024-06-09 05:35:00 2024-06-09 08:50:00       195          0.0   \n",
       "2   2024-06-09 11:30:00 2024-06-09 18:50:00       440          1.0   \n",
       "4   2024-06-09 16:55:00 2024-06-09 19:40:00      1605          1.0   \n",
       "7   2024-06-09 17:50:00 2024-06-09 01:35:00       465          2.0   \n",
       "13  2024-06-09 08:20:00 2024-06-09 11:20:00       180          0.0   \n",
       "..                  ...                 ...       ...          ...   \n",
       "633 2024-06-09 15:05:00 2024-06-09 01:30:00       625          2.0   \n",
       "635 2024-06-09 08:45:00 2024-06-09 13:15:00       270          1.0   \n",
       "636 2024-06-09 21:30:00 2024-06-09 19:15:00      1305          2.0   \n",
       "637 2024-06-09 20:55:00 2024-06-09 04:25:00       450          1.0   \n",
       "638 2024-06-09 05:15:00 2024-06-09 06:50:00      1535          1.0   \n",
       "\n",
       "                  additional_info  price  outlier  \n",
       "0                         No Info   6541       -1  \n",
       "2                         No Info  12242       -1  \n",
       "4     In-flight meal not included  11134       -1  \n",
       "7                         No Info  23583       -1  \n",
       "13    In-flight meal not included   4030       -1  \n",
       "..                            ...    ...      ...  \n",
       "633                       No Info  15965       -1  \n",
       "635  No check-in baggage included   5158       -1  \n",
       "636                       No Info  12497       -1  \n",
       "637   In-flight meal not included  12898       -1  \n",
       "638                       No Info   8425       -1  \n",
       "\n",
       "[325 rows x 11 columns]"
      ]
     },
     "execution_count": 25,
     "metadata": {},
     "output_type": "execute_result"
    }
   ],
   "source": [
    "(\n",
    "    train\n",
    "    .assign(outlier=forest.fit_predict(train\n",
    "    .drop(columns=\"price\")\n",
    "    .select_dtypes(include=\"number\")))\n",
    "\n",
    "    .query(\"outlier == -1\")\n",
    ")"
   ]
  },
  {
   "cell_type": "code",
   "execution_count": null,
   "metadata": {},
   "outputs": [],
   "source": []
  },
  {
   "cell_type": "markdown",
   "metadata": {},
   "source": [
    "## 6. Pair Plots"
   ]
  },
  {
   "cell_type": "code",
   "execution_count": 28,
   "metadata": {},
   "outputs": [
    {
     "data": {
      "text/html": [
       "<h2>Pair Plots</h2>"
      ],
      "text/plain": [
       "<IPython.core.display.HTML object>"
      ]
     },
     "metadata": {},
     "output_type": "display_data"
    },
    {
     "data": {
      "image/png": "[encoded data removed]",
      "text/plain": [
       "<Figure size 1350x900 with 6 Axes>"
      ]
     },
     "metadata": {},
     "output_type": "display_data"
    }
   ],
   "source": [
    "eda_helper_functions.pair_plots(train)"
   ]
  },
  {
   "cell_type": "markdown",
   "metadata": {},
   "source": [
    "## 7. Correlation Analysis"
   ]
  },
  {
   "cell_type": "code",
   "execution_count": 29,
   "metadata": {},
   "outputs": [
    {
     "data": {
      "image/png": "[encoded data removed]",
      "text/plain": [
       "<Figure size 1200x600 with 2 Axes>"
      ]
     },
     "metadata": {},
     "output_type": "display_data"
    }
   ],
   "source": [
    "eda_helper_functions.correlation_heatmap(train)"
   ]
  },
  {
   "cell_type": "code",
   "execution_count": 30,
   "metadata": {},
   "outputs": [
    {
     "data": {
      "image/png": "[encoded data removed]",
      "text/plain": [
       "<Figure size 1200x600 with 2 Axes>"
      ]
     },
     "metadata": {},
     "output_type": "display_data"
    }
   ],
   "source": [
    "eda_helper_functions.cramersV_heatmap(train)"
   ]
  },
  {
   "cell_type": "markdown",
   "metadata": {},
   "source": [
    "## Detailed Analysis of each Feature:"
   ]
  },
  {
   "cell_type": "code",
   "execution_count": null,
   "metadata": {},
   "outputs": [],
   "source": []
  },
  {
   "cell_type": "code",
   "execution_count": null,
   "metadata": {},
   "outputs": [],
   "source": []
  },
  {
   "cell_type": "code",
   "execution_count": null,
   "metadata": {},
   "outputs": [],
   "source": []
  }
 ],
 "metadata": {
  "kernelspec": {
   "display_name": "sagemaker",
   "language": "python",
   "name": "python3"
  },
  "language_info": {
   "codemirror_mode": {
    "name": "ipython",
    "version": 3
   },
   "file_extension": ".py",
   "mimetype": "text/x-python",
   "name": "python",
   "nbconvert_exporter": "python",
   "pygments_lexer": "ipython3",
   "version": "3.12.3"
  }
 },
 "nbformat": 4,
 "nbformat_minor": 2
}
